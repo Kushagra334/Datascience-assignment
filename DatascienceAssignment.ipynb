{
  "cells": [
    {
      "cell_type": "markdown",
      "metadata": {
        "id": "AQoYCo1_MSx3"
      },
      "source": [
        "# #1: Basics of Coding in Python\n"
      ]
    },
    {
      "cell_type": "markdown",
      "metadata": {
        "id": "zP7jCCdX8jml"
      },
      "source": [
        "#1. Using Comments Python\n"
      ]
    },
    {
      "cell_type": "markdown",
      "metadata": {
        "id": "VWWgmuI77Vw8"
      },
      "source": [
        "\n",
        "\n",
        "```\n",
        "Python supports two types of comments : Single-line comments and Multi-line comments\n",
        "```\n",
        "\n"
      ]
    },
    {
      "cell_type": "code",
      "execution_count": null,
      "metadata": {
        "colab": {
          "base_uri": "https://localhost:8080/"
        },
        "id": "6CkSzH7774h8",
        "outputId": "bf1d5539-cac7-4094-cc71-5e7a0e6b85e9"
      },
      "outputs": [
        {
          "name": "stdout",
          "output_type": "stream",
          "text": [
            "Hello,world!\n"
          ]
        }
      ],
      "source": [
        "print(\"Hello,world!\") # This is a Single-line comment"
      ]
    },
    {
      "cell_type": "code",
      "execution_count": null,
      "metadata": {
        "colab": {
          "base_uri": "https://localhost:8080/"
        },
        "id": "Klqjy3AGuNpF",
        "outputId": "22ce2841-d935-42a1-883d-f74c9c89110f"
      },
      "outputs": [
        {
          "name": "stdout",
          "output_type": "stream",
          "text": [
            "Hello,world!\n"
          ]
        }
      ],
      "source": [
        "'''\n",
        "This is a Multi-line comment.\n",
        "It spans multiple lines.\n",
        "'''\n",
        "print(\"Hello,world!\")"
      ]
    },
    {
      "cell_type": "markdown",
      "metadata": {
        "id": "AsQBm02A9tVz"
      },
      "source": [
        "# 2. Executing commmands in Python"
      ]
    },
    {
      "cell_type": "markdown",
      "metadata": {
        "id": "OlTagC2Y97Gf"
      },
      "source": [
        "There are a few ways to execute commands in Python.\n",
        "The most basic way is to use the python command.\n",
        "You need to open a command line and type the word python followed by the path to your script file like this:"
      ]
    },
    {
      "cell_type": "code",
      "execution_count": null,
      "metadata": {
        "id": "OVmVfsRn-KaO"
      },
      "outputs": [],
      "source": [
        "python first_script.py"
      ]
    },
    {
      "cell_type": "markdown",
      "metadata": {
        "id": "qyznMtuE-Qer"
      },
      "source": [
        "You can also execute a Python script by using the subprocess module.\n",
        "The following code shows how to execute a shell command using the subprocess module:"
      ]
    },
    {
      "cell_type": "code",
      "execution_count": null,
      "metadata": {
        "id": "Yf6jWB3B-WVE"
      },
      "outputs": [],
      "source": [
        "import subprocess\n",
        "subprocess.run([\"ls\", \"-l\"])"
      ]
    },
    {
      "cell_type": "markdown",
      "metadata": {
        "id": "aUZfGXYj-Yir"
      },
      "source": [
        "You can also use the os module to execute system commands.\n",
        "The following code shows how to execute a shell command using the os module:"
      ]
    },
    {
      "cell_type": "code",
      "execution_count": null,
      "metadata": {
        "id": "rnQbHiVS-eUe"
      },
      "outputs": [],
      "source": [
        "import os\n",
        "os.system(\"ls -l\")"
      ]
    },
    {
      "cell_type": "markdown",
      "metadata": {
        "id": "ybi0NVl8-h0E"
      },
      "source": [
        "Finally, you can also use the exec() function to execute a string as code.\n",
        "The following code shows how to execute a string as code using the exec() function:"
      ]
    },
    {
      "cell_type": "code",
      "execution_count": null,
      "metadata": {
        "id": "D3v6LnRG-qgW"
      },
      "outputs": [],
      "source": [
        "exec(\"print('Hello, world!')\")"
      ]
    },
    {
      "cell_type": "markdown",
      "metadata": {
        "id": "UPon8yV--7g2"
      },
      "source": [
        "# 3. Importing Packages in Python"
      ]
    },
    {
      "cell_type": "markdown",
      "metadata": {
        "id": "0TEd7MIU_EFm"
      },
      "source": [
        "Here are the steps on how to import packages in Python:\n",
        "1. Create a new Python file.\n",
        "2. Save the file with a .py extension.\n",
        "3. Add the following line to the top of the file:\n",
        "\n",
        "For example, if you want to import the pandas package,\n",
        "you would add the following line to the top of your file:"
      ]
    },
    {
      "cell_type": "code",
      "execution_count": null,
      "metadata": {
        "id": "gleFNIRMzIj1"
      },
      "outputs": [],
      "source": [
        "import pandas as pd"
      ]
    },
    {
      "cell_type": "markdown",
      "metadata": {
        "id": "CoWoD5Vm_NT2"
      },
      "source": [
        "# 4. Getting Data into Python"
      ]
    },
    {
      "cell_type": "markdown",
      "metadata": {
        "id": "jtDHnc_ACCrH"
      },
      "source": [
        "To import a CSV file into Python, we can use the read_csv( ) function from the pandas package."
      ]
    },
    {
      "cell_type": "code",
      "execution_count": null,
      "metadata": {
        "colab": {
          "base_uri": "https://localhost:8080/"
        },
        "id": "2ha9k-jBCESf",
        "outputId": "d03e892b-ab8b-4459-cef7-05a3ab171faf"
      },
      "outputs": [
        {
          "name": "stdout",
          "output_type": "stream",
          "text": [
            "      longitude  latitude  housing_median_age  total_rooms  total_bedrooms  \\\n",
            "0       -122.05     37.37                27.0       3885.0           661.0   \n",
            "1       -118.30     34.26                43.0       1510.0           310.0   \n",
            "2       -117.81     33.78                27.0       3589.0           507.0   \n",
            "3       -118.36     33.82                28.0         67.0            15.0   \n",
            "4       -119.67     36.33                19.0       1241.0           244.0   \n",
            "...         ...       ...                 ...          ...             ...   \n",
            "2995    -119.86     34.42                23.0       1450.0           642.0   \n",
            "2996    -118.14     34.06                27.0       5257.0          1082.0   \n",
            "2997    -119.70     36.30                10.0        956.0           201.0   \n",
            "2998    -117.12     34.10                40.0         96.0            14.0   \n",
            "2999    -119.63     34.42                42.0       1765.0           263.0   \n",
            "\n",
            "      population  households  median_income  median_house_value  \n",
            "0         1537.0       606.0         6.6085            344700.0  \n",
            "1          809.0       277.0         3.5990            176500.0  \n",
            "2         1484.0       495.0         5.7934            270500.0  \n",
            "3           49.0        11.0         6.1359            330000.0  \n",
            "4          850.0       237.0         2.9375             81700.0  \n",
            "...          ...         ...            ...                 ...  \n",
            "2995      1258.0       607.0         1.1790            225000.0  \n",
            "2996      3496.0      1036.0         3.3906            237200.0  \n",
            "2997       693.0       220.0         2.2895             62000.0  \n",
            "2998        46.0        14.0         3.2708            162500.0  \n",
            "2999       753.0       260.0         8.5608            500001.0  \n",
            "\n",
            "[3000 rows x 9 columns]\n"
          ]
        }
      ],
      "source": [
        "import pandas as pd\n",
        "ds = pd.read_csv('/content/sample_data/california_housing_test.csv')\n",
        "print(ds)"
      ]
    },
    {
      "cell_type": "markdown",
      "metadata": {
        "id": "CPClcPT9EjYn"
      },
      "source": [
        "Similarly to import a excel file using pandas we can use read_excel()"
      ]
    },
    {
      "cell_type": "markdown",
      "metadata": {
        "id": "WCX5xXDIGR38"
      },
      "source": [
        "# 5. Saving Output in Python"
      ]
    },
    {
      "cell_type": "markdown",
      "metadata": {
        "id": "vDjbZ4VFHOKm"
      },
      "source": [
        "Here are the steps on how to save the output in Python in CSV:\n",
        "1. Import the pandas library.\n",
        "2. Create a pandas dataframe using pd.DataFrame.\n",
        "3. Write to a CSV file using to_csv()."
      ]
    },
    {
      "cell_type": "code",
      "execution_count": null,
      "metadata": {
        "id": "4AADJ50rHbMs"
      },
      "outputs": [],
      "source": [
        "import pandas as pd\n",
        "\n",
        "# Create a list of data\n",
        "data = [\n",
        "    ['John', 20, 'male'],\n",
        "    ['Jane', 25, 'female'],\n",
        "    ['Peter', 30, 'male']\n",
        "]\n",
        "\n",
        "# Create a dataframe\n",
        "df = pd.DataFrame(data, columns=['Name', 'Age', 'Gender'])\n",
        "\n",
        "# Write the dataframe to a CSV file\n",
        "df.to_csv('data.csv', index=False)"
      ]
    },
    {
      "cell_type": "markdown",
      "metadata": {
        "id": "u6PYYMZwHjKL"
      },
      "source": [
        "This will create a CSV file called \"data.csv\" with the following contents:\n",
        "\n",
        "Name,Age,Gender\n",
        "\n",
        "John,20,male\n",
        "\n",
        "Jane,25,female\n",
        "\n",
        "Peter,30,male\n",
        "\n",
        "Similarly we can write a dataframe to a Excel file using to_csv()"
      ]
    },
    {
      "cell_type": "markdown",
      "metadata": {
        "id": "RK5R2tgTI0us"
      },
      "source": [
        "# 6. Accessing Records and Variables in Python"
      ]
    },
    {
      "cell_type": "markdown",
      "metadata": {
        "id": "FBLV7I51JcKo"
      },
      "source": [
        "Accessing variables :\n",
        "\n",
        "1. Single variable :"
      ]
    },
    {
      "cell_type": "code",
      "execution_count": null,
      "metadata": {
        "id": "yvylh_lwJvVj"
      },
      "outputs": [],
      "source": [
        "# Variable assignment\n",
        "x = 10\n",
        "\n",
        "# Accessing the value of the variable\n",
        "print(x)"
      ]
    },
    {
      "cell_type": "markdown",
      "metadata": {
        "id": "YCeoLVO0J_gh"
      },
      "source": [
        "2. Multiple variables :"
      ]
    },
    {
      "cell_type": "code",
      "execution_count": null,
      "metadata": {
        "id": "A9tzpchQKG0S"
      },
      "outputs": [],
      "source": [
        "# Multiple variable assignment\n",
        "a,b,c = 1,2,3\n",
        "\n",
        "# Accessing the values of the variables\n",
        "print(a,b,c)"
      ]
    },
    {
      "cell_type": "markdown",
      "metadata": {
        "id": "JMHdCtygKawK"
      },
      "source": [
        "Accessing records :\n",
        "\n",
        "1. Dictionaries :"
      ]
    },
    {
      "cell_type": "code",
      "execution_count": null,
      "metadata": {
        "id": "RFKkKuXkKsxU"
      },
      "outputs": [],
      "source": [
        "# Dictionary creation\n",
        "my_dict={'name':'john','age':25,'city':\"New York\"}\n",
        "\n",
        "# Accessing values by key\n",
        "print(my_dict['name'])\n",
        "print(my_dict['age'])"
      ]
    },
    {
      "cell_type": "markdown",
      "metadata": {
        "id": "SlC-gvW1Laxr"
      },
      "source": [
        "2. NumPy Arrays :"
      ]
    },
    {
      "cell_type": "code",
      "execution_count": null,
      "metadata": {
        "id": "bKX3jZKuLhk9"
      },
      "outputs": [],
      "source": [
        "import numpy as np\n",
        "\n",
        "#NumPy array creation\n",
        "my_array = np.array([1,2,3,4,5])\n",
        "\n",
        "# Accessing elements by index\n",
        "print(my_array[3])"
      ]
    },
    {
      "cell_type": "markdown",
      "metadata": {
        "id": "ICqo7ermNnAq"
      },
      "source": [
        "# #2: Data Preparation\n"
      ]
    },
    {
      "cell_type": "markdown",
      "metadata": {
        "id": "zL8gbnKHOADj"
      },
      "source": [
        "# 1. How to Add an Index Field Using Python\n"
      ]
    },
    {
      "cell_type": "code",
      "execution_count": null,
      "metadata": {
        "colab": {
          "base_uri": "https://localhost:8080/"
        },
        "id": "yq9JDNDbAxFh",
        "outputId": "6283a542-526b-44c3-c7ff-d37c34d4e9c8"
      },
      "outputs": [
        {
          "name": "stdout",
          "output_type": "stream",
          "text": [
            "      Organization Id                         Name  \\\n",
            "0     522816eF8fdBE6d                 Mckinney PLC   \n",
            "1     70C7FBD7e6Aa3Ea               Cunningham LLC   \n",
            "2     428B397eA2d7290                   Ruiz-Walls   \n",
            "3     9D234Ae8Cc51C1c  Parrish, Osborne and Clarke   \n",
            "4     6CDCcdE3D0b7b44       Diaz, Robles and Haley   \n",
            "...               ...                          ...   \n",
            "9995  2EE82AD1Cd045cd           Neal, Day and Wang   \n",
            "9996  06f1568A2CaF04a    Barrett, Rojas and Adkins   \n",
            "9997  B4B92A44e0331Bc               Franklin-Ayala   \n",
            "9998  01D2539e270CEbd                  Wolfe-Mckee   \n",
            "9999  0D3b7DcFA21d92d                     Beck LLC   \n",
            "\n",
            "                            Website  Founded                Industry  \\\n",
            "0                  http://soto.com/     1988                   Dairy   \n",
            "1         http://harding-duffy.com/     2018                 Library   \n",
            "2            http://www.atkins.biz/     2003  Hospital / Health Care   \n",
            "3              http://salazar.info/     1989            Supermarkets   \n",
            "4     https://www.brooks-scott.net/     2013          Nanotechnology   \n",
            "...                             ...      ...                     ...   \n",
            "9995            https://carson.net/     2013         Import / Export   \n",
            "9996     https://douglas-garza.com/     2018    Human Resources / HR   \n",
            "9997         http://www.torres.org/     1983      Financial Services   \n",
            "9998          http://www.parks.com/     1975  Environmental Services   \n",
            "9999     https://wagner-glover.com/     2007                Wireless   \n",
            "\n",
            "      Number of employees  \n",
            "0                    3930  \n",
            "1                    7871  \n",
            "2                    3095  \n",
            "3                    5422  \n",
            "4                    3135  \n",
            "...                   ...  \n",
            "9995                 6123  \n",
            "9996                 9043  \n",
            "9997                 8951  \n",
            "9998                 2505  \n",
            "9999                 4552  \n",
            "\n",
            "[10000 rows x 6 columns]\n"
          ]
        }
      ],
      "source": [
        "import numpy as np\n",
        "import pandas as pd\n",
        "f=pd.read_csv(\"/content/organizations.csv\")\n",
        "print(f)"
      ]
    },
    {
      "cell_type": "markdown",
      "metadata": {
        "id": "VK3S9lSw_8cV"
      },
      "source": [
        "To Add an index field we can simply create a dataframe as index with a single coloumn named 'Index', and its values are the index of the original DataFrame f.\n",
        "This effectively adds a new column (\"Index\") to the original DataFrame."
      ]
    },
    {
      "cell_type": "code",
      "execution_count": null,
      "metadata": {
        "id": "8VZn6YjDDazY"
      },
      "outputs": [],
      "source": [
        "index=pd.DataFrame({\"Index\":f.index})\n",
        "f=pd.concat([index,f],axis=1)\n",
        "print(f)"
      ]
    },
    {
      "cell_type": "markdown",
      "metadata": {
        "id": "pQhfkT3gFIF9"
      },
      "source": [
        "# 2. How to Change Misleading Field Values Using Python\n"
      ]
    },
    {
      "cell_type": "markdown",
      "metadata": {
        "id": "TIcO5wFLHDtB"
      },
      "source": [
        "To change the misleading field values we can identify the misleading values from a particular coloumn an then simply replace the value with the correct value using code given below :"
      ]
    },
    {
      "cell_type": "code",
      "execution_count": null,
      "metadata": {
        "id": "a6OWUexAHcBm"
      },
      "outputs": [],
      "source": [
        "import pandas as pd\n",
        "df = pd.read_csv(\"/content/organizations.csv\")\n",
        "print(df)"
      ]
    },
    {
      "cell_type": "code",
      "execution_count": null,
      "metadata": {
        "id": "XODHLlB1Iqrf"
      },
      "outputs": [],
      "source": [
        "df['Industry'] = df['Industry'].replace('Dairy', 'Milk products')\n",
        "\n",
        "print(df)"
      ]
    },
    {
      "cell_type": "markdown",
      "metadata": {
        "id": "Q7l9viuLK8zX"
      },
      "source": [
        "# 3. How to Re Express Categorical Field Values Using Python"
      ]
    },
    {
      "cell_type": "code",
      "execution_count": null,
      "metadata": {
        "id": "iwrp4AqNLK_-"
      },
      "outputs": [],
      "source": [
        "import numpy as np\n",
        "import pandas as pd\n",
        "f=pd.read_csv(\"/content/people.csv\")\n",
        "new_cols=pd.get_dummies(f[\"Sex\"])*1\n",
        "f=f.drop([\"Sex\"],axis=1)\n",
        "new_f=pd.concat([new_cols,f],axis=1)\n",
        "print(new_f)"
      ]
    },
    {
      "cell_type": "markdown",
      "metadata": {
        "id": "4gMfUC-9L2V6"
      },
      "source": [
        "1. The pd.get_dummies function is used to perform one-hot encoding on the\n",
        "\"Sex\" column. This creates binary columns for each unique value in the \"Sex\" column. Multiplying by 1 converts boolean values to integers (0 or 1).\n",
        "2. Then we dropped the original Sex Column by drop()\n",
        "3. At last we concatenated the one-hot encoded columns with th original dataframe."
      ]
    },
    {
      "cell_type": "markdown",
      "metadata": {
        "id": "pMzAImBcNr3y"
      },
      "source": [
        "# 4. How to Standardize Numeric Fields Using Python"
      ]
    },
    {
      "cell_type": "code",
      "execution_count": null,
      "metadata": {
        "id": "HtSJK-nKTTRw"
      },
      "outputs": [],
      "source": [
        "import numpy as np\n",
        "import pandas as pd\n",
        "from sklearn.preprocessing import MinMaxScaler\n",
        "f=pd.read_csv(\"/content/sample_data/california_housing_test.csv\")"
      ]
    },
    {
      "cell_type": "markdown",
      "metadata": {
        "id": "5eLrSn3kS2IB"
      },
      "source": [
        "Here a MinMaxScaler object is created, and then min-max scaling is applied to specific columns in the DataFrame to bring numerical features to a common scale, which can be beneficial for certain machine learning algorithms.\n",
        "\n",
        "\n",
        "\n",
        "\n",
        "\n"
      ]
    },
    {
      "cell_type": "code",
      "execution_count": null,
      "metadata": {
        "id": "i7_jhzjTWAvA"
      },
      "outputs": [],
      "source": [
        "minmax=MinMaxScaler()\n",
        "f[[\"median_income\"]]=minmax.fit_transform(f[[\"median_income\"]])\n",
        "print(f)"
      ]
    },
    {
      "cell_type": "markdown",
      "metadata": {
        "id": "shUkgiyfYg4s"
      },
      "source": [
        "# 5. How to Identify Outliers Using Python\n"
      ]
    },
    {
      "cell_type": "code",
      "execution_count": null,
      "metadata": {
        "colab": {
          "base_uri": "https://localhost:8080/",
          "height": 430
        },
        "id": "DCfiZb2EYoDX",
        "outputId": "2ba040ee-4729-4538-e465-65c0d87f9444"
      },
      "outputs": [
        {
          "data": {
            "image/png": "[encoded data removed]",
            "text/plain": [
              "<Figure size 640x480 with 1 Axes>"
            ]
          },
          "metadata": {},
          "output_type": "display_data"
        }
      ],
      "source": [
        "import matplotlib.pyplot as plt\n",
        "\n",
        "data = [1, 2, 2, 3, 4, 8, 9, 10, 100]\n",
        "plt.boxplot(data)\n",
        "plt.show()"
      ]
    },
    {
      "cell_type": "markdown",
      "metadata": {
        "id": "HBANeRkiaB12"
      },
      "source": [
        "Outliers : Outliers refer to data points that significantly deviate from the overall pattern or distribution of a dataset.\n",
        "\n",
        "You can visually inspect the plot for points beyond the whiskers to identify potential outliers."
      ]
    },
    {
      "cell_type": "markdown",
      "metadata": {
        "id": "21XHevhRaZip"
      },
      "source": [
        "# #3: Exploratory Data Analysis\n"
      ]
    },
    {
      "cell_type": "markdown",
      "metadata": {
        "id": "WDAaFUheaZl0"
      },
      "source": [
        "# 1. How to Construct a Bar Graph with Overlay Using Python\n"
      ]
    },
    {
      "cell_type": "code",
      "execution_count": null,
      "metadata": {
        "colab": {
          "background_save": true
        },
        "id": "H5oD8j1Xb448",
        "outputId": "47367f0e-00b3-4d0d-c0d1-aa2a37ad8a25"
      },
      "outputs": [
        {
          "name": "stdout",
          "output_type": "stream",
          "text": [
            "   Class  Boys  Girls\n",
            "0    1st    20     10\n",
            "1    2nd    25     15\n",
            "2    3rd    19     18\n",
            "3    4th    24     22\n",
            "4    5th    23     14\n",
            "5    6th    14     25\n",
            "6    7th    30     27\n",
            "7    8th    27     19\n",
            "8    9th    28     28\n",
            "9   10th    16     22\n",
            "10  11th    18     24\n",
            "11  12th    28     20\n"
          ]
        },
        {
          "data": {
            "text/plain": [
              "[Text(0.5, 0, 'Class'), Text(0, 0.5, 'Strength')]"
            ]
          },
          "execution_count": 25,
          "metadata": {},
          "output_type": "execute_result"
        },
        {
          "data": {
            "image/png": "[encoded data removed]",
            "text/plain": [
              "<Figure size 640x480 with 1 Axes>"
            ]
          },
          "metadata": {},
          "output_type": "display_data"
        }
      ],
      "source": [
        "import seaborn as sb\n",
        "import pandas as pd\n",
        "file=pd.read_csv(\"/content/classes.csv\")\n",
        "print(file)\n",
        "\n",
        "chart=sb.barplot(x=file[\"Class\"],y=file[\"Boys\"],color=\"red\")\n",
        "chart=sb.barplot(x=file[\"Class\"],y=file[\"Girls\"],color=\"blue\")\n",
        "chart.set(xlabel=\"Class\",ylabel=\"Strength\")"
      ]
    },
    {
      "cell_type": "markdown",
      "metadata": {
        "id": "vmvtBsDoed3F"
      },
      "source": [
        "# 2. How to Construct Contingency Tables Using Python\n"
      ]
    },
    {
      "cell_type": "code",
      "execution_count": null,
      "metadata": {
        "id": "byDgqOpcfC9l"
      },
      "outputs": [],
      "source": [
        "import pandas as pd\n",
        "data=pd.read_csv(\"/content/Smokers.csv\")\n",
        "\n",
        "df = pd.DataFrame(data)\n",
        "contingency_table = pd.crosstab(df['Gender'], df['Smoker'])\n",
        "print(contingency_table)"
      ]
    },
    {
      "cell_type": "markdown",
      "metadata": {
        "id": "I7DP4PiNgdG1"
      },
      "source": [
        " we have a small dataset with two categorical variables: 'Gender' and 'Smoker'. The pd.crosstab() function is used to construct a contingency table from these variables. The resulting table will show the counts or frequencies of each combination of categories."
      ]
    },
    {
      "cell_type": "markdown",
      "metadata": {
        "id": "HlLjglhdgnKH"
      },
      "source": [
        "# 3. How to Construct Histograms with Overlay Using Python\n"
      ]
    },
    {
      "cell_type": "markdown",
      "metadata": {
        "id": "b3DLD5qRkv5C"
      },
      "source": [
        "Constructing histograms with overlay in Python can be done using the matplotlib library. This is useful when you want to compare the distributions of two or more datasets on the same histogram."
      ]
    },
    {
      "cell_type": "code",
      "execution_count": null,
      "metadata": {
        "id": "pxEsnaPLhi8c"
      },
      "outputs": [],
      "source": [
        "import pandas as pd\n",
        "import matplotlib.pyplot as plt\n",
        "\n",
        "df = pd.read_csv(\"/content/classes.csv\")\n",
        "\n",
        "chart=plt.hist(df['Boys'], alpha=0.5, label='Boys')\n",
        "chart=plt.hist(df['Girls'], alpha=0.5, label='Girls')\n",
        "\n",
        "plt.legend()\n",
        "\n",
        "plt.show()"
      ]
    },
    {
      "cell_type": "markdown",
      "metadata": {
        "id": "AEkfQIC7k_tu"
      },
      "source": [
        "# 4. How to Perform Binning Based on Predictive Value Using Python\n"
      ]
    },
    {
      "cell_type": "markdown",
      "metadata": {
        "id": "26jcognPmBwY"
      },
      "source": [
        "Binning : Binning is a data preprocessing technique used in machine learning to improve the accuracy of predictive models. It involves grouping continuous values into smaller intervals or bins,\n",
        "Below is a binning program:"
      ]
    },
    {
      "cell_type": "code",
      "execution_count": null,
      "metadata": {
        "id": "JLD-UTDZnobW"
      },
      "outputs": [],
      "source": [
        "from sklearn.cluster import KMeans\n",
        "import seaborn as sb\n",
        "import numpy as np\n",
        "X = np.array([[1, 2], [1, 4], [1, 0],[1,3],[1,5],[1,1],\n",
        "               [10, 2], [10, 4], [10, 0],[10,1],[10,5],[10,3]])\n",
        "kmeans = KMeans(n_clusters=2, random_state=0, n_init=\"auto\").fit(X)\n",
        "label=kmeans.labels_\n",
        "\n",
        "sb.scatterplot(x=X[:,0],y=X[:,1],hue=label)"
      ]
    },
    {
      "cell_type": "markdown",
      "metadata": {
        "id": "kzvnuC-yoglT"
      },
      "source": [
        "above we have performed k-mean clustering on a 2-D Dataset(X)."
      ]
    },
    {
      "cell_type": "markdown",
      "metadata": {
        "id": "NY6NYaFUrFIC"
      },
      "source": [
        "# #4: Data Preparation Phase to Model the data\n"
      ]
    },
    {
      "cell_type": "markdown",
      "metadata": {
        "id": "kgnMvEFArG-W"
      },
      "source": [
        "# 1. How to Partition the Data Python"
      ]
    },
    {
      "cell_type": "markdown",
      "metadata": {
        "id": "JET037OLrkWu"
      },
      "source": [
        "Partitioning : Partitioning data in Python typically refers to splitting a dataset into multiple subsets or groups."
      ]
    },
    {
      "cell_type": "code",
      "execution_count": null,
      "metadata": {
        "id": "v551zS1MrrzD"
      },
      "outputs": [],
      "source": [
        "import pandas as pd\n",
        "from sklearn.preprocessing import train_test_split\n",
        "from imblearn.under_sampling import RandomUnderSampler\n",
        "f=pd.read_csv(\"/content/Iris.csv\")\n",
        "\n",
        "X = f.drop(\"Species\",axis=1)\n",
        "Y = f[\"species\"]\n",
        "\n",
        "test_size = 0.2\n",
        "random_state = 40\n",
        "\n",
        "x_train,x_test,y_train,y_test=train_test_split(X,Y,test_size=test_size,random_state=random_state)\n",
        "\n",
        "print()"
      ]
    }
  ],
  "metadata": {
    "colab": {
      "provenance": []
    },
    "kernelspec": {
      "display_name": "Python 3",
      "name": "python3"
    },
    "language_info": {
      "name": "python"
    }
  },
  "nbformat": 4,
  "nbformat_minor": 0
}